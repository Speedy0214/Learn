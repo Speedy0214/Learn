{
 "cells": [
  {
   "cell_type": "code",
   "execution_count": 3,
   "metadata": {},
   "outputs": [],
   "source": [
    "import pymysql"
   ]
  },
  {
   "cell_type": "code",
   "execution_count": 18,
   "metadata": {},
   "outputs": [
    {
     "name": "stdout",
     "output_type": "stream",
     "text": [
      "((1, '苹果', '水果', 1.05, 3.0, 100.0, datetime.datetime(2019, 9, 5, 0, 0), datetime.datetime(2019, 9, 5, 0, 0)), (2, '香蕉', '水果', 1.5, 4.0, 100.0, datetime.datetime(2019, 9, 5, 0, 0), datetime.datetime(2019, 9, 5, 0, 0)), (3, '西红柿', '蔬菜', 0.5, 1.5, 100.0, datetime.datetime(2019, 9, 5, 0, 0), datetime.datetime(2019, 9, 5, 0, 0)))\n"
     ]
    }
   ],
   "source": [
    "coon = pymysql.connect(\n",
    "     host = 'localhost',user = 'root',passwd = '11111111',\n",
    "     port = 3306,db = 'ods',charset = 'utf8'\n",
    "     #port必须写int类型\n",
    "     #charset必须写utf8，不能写utf-8\n",
    " )\n",
    "cur = coon.cursor()  #建立游标\n",
    "cur.execute(\"select * from ods.o_fruit_list_d\")  #查询数据\n",
    "res = cur.fetchall()    #获取结果\n",
    "print(res)\n",
    "#cur.close()     #关闭游标\n",
    "#coon.close()    #关闭连接\n",
    "\n",
    "#如果是插入数据，则要commit一下，把第9行换成以下两行\n",
    "#cur.execute('insert into stu(name,sex) VALUE (\"pzp\",\"man\");')\n",
    "#coon.commit()"
   ]
  },
  {
   "cell_type": "code",
   "execution_count": null,
   "metadata": {},
   "outputs": [],
   "source": []
  }
 ],
 "metadata": {
  "kernelspec": {
   "display_name": "Python 3",
   "language": "python",
   "name": "python3"
  },
  "language_info": {
   "codemirror_mode": {
    "name": "ipython",
    "version": 3
   },
   "file_extension": ".py",
   "mimetype": "text/x-python",
   "name": "python",
   "nbconvert_exporter": "python",
   "pygments_lexer": "ipython3",
   "version": "3.7.4"
  }
 },
 "nbformat": 4,
 "nbformat_minor": 2
}
