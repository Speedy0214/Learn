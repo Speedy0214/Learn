{
 "cells": [
  {
   "cell_type": "code",
   "execution_count": 1,
   "metadata": {},
   "outputs": [],
   "source": [
    "import pandas as pd"
   ]
  },
  {
   "cell_type": "code",
   "execution_count": 14,
   "metadata": {},
   "outputs": [
    {
     "name": "stdout",
     "output_type": "stream",
     "text": [
      "    fruit  price  num\n",
      "0   Apple    3.0    6\n",
      "1  Banana    1.5   50\n",
      "2  Tomato    1.0   20\n"
     ]
    }
   ],
   "source": [
    "#def getStore():\n",
    "store_df = pd.read_csv(\"./fruit.csv\", index_col =0)\n",
    "print(store_df)"
   ]
  },
  {
   "cell_type": "code",
   "execution_count": 15,
   "metadata": {},
   "outputs": [
    {
     "name": "stdout",
     "output_type": "stream",
     "text": [
      "{'Apple': {'fruit': 'Apple', 'price': 3.0, 'num': 6}, 'Banana': {'fruit': 'Banana', 'price': 1.5, 'num': 50}, 'Tomato': {'fruit': 'Tomato', 'price': 1.0, 'num': 20}}\n"
     ]
    }
   ],
   "source": [
    "store = {store_df['fruit'].to_list()[i]:store_df.to_dict(\"records\")[i] for i in range(len(store_df))}\n",
    "print(store)"
   ]
  },
  {
   "cell_type": "code",
   "execution_count": null,
   "metadata": {},
   "outputs": [],
   "source": []
  }
 ],
 "metadata": {
  "kernelspec": {
   "display_name": "Python 3",
   "language": "python",
   "name": "python3"
  },
  "language_info": {
   "codemirror_mode": {
    "name": "ipython",
    "version": 3
   },
   "file_extension": ".py",
   "mimetype": "text/x-python",
   "name": "python",
   "nbconvert_exporter": "python",
   "pygments_lexer": "ipython3",
   "version": "3.7.4"
  }
 },
 "nbformat": 4,
 "nbformat_minor": 2
}
